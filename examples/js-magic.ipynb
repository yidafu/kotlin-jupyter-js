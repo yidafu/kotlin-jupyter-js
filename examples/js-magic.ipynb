{
 "cells": [
  {
   "cell_type": "code",
   "execution_count": 1,
   "id": "bcceb0dd",
   "metadata": {},
   "outputs": [
    {
     "data": {
      "text/html": [
       "            <div id=\"kotlin_out_0\"></div>\n",
       "            <script type=\"text/javascript\">\n",
       "                            if(!window.kotlinQueues) {\n",
       "                window.kotlinQueues = {};\n",
       "            }\n",
       "            if(!window.kotlinQueues[\"jupyter-js\"]) {\n",
       "                var resQueue = [];\n",
       "                window.kotlinQueues[\"jupyter-js\"] = resQueue;\n",
       "                window[\"call_jupyter-js\"] = function(f) {\n",
       "                    resQueue.push(f);\n",
       "                }\n",
       "            }\n",
       "            (function (){\n",
       "                var modifiers = [(function(script) {\n",
       "    script.src = \"http://localhost:3000/add-importmap.js\"\n",
       "    script.type = \"text/javascript\";\n",
       "})];\n",
       "                var e = document.getElementById(\"kotlin_out_0\");\n",
       "                modifiers.forEach(function (gen) {\n",
       "                    var script = document.createElement(\"script\");\n",
       "                    gen(script)\n",
       "                    script.addEventListener(\"load\", function() {\n",
       "                        window[\"call_jupyter-js\"] = function(f) {f();};\n",
       "                        window.kotlinQueues[\"jupyter-js\"].forEach(function(f) {f();});\n",
       "                        window.kotlinQueues[\"jupyter-js\"] = [];\n",
       "                    }, false);\n",
       "                    script.addEventListener(\"error\", function() {\n",
       "                        window[\"call_jupyter-js\"] = function(f) {};\n",
       "                        window.kotlinQueues[\"jupyter-js\"] = [];\n",
       "                        var div = document.createElement(\"div\");\n",
       "                        div.style.color = 'darkred';\n",
       "                        div.textContent = 'Error loading resource jupyter-js';\n",
       "                        document.getElementById(\"kotlin_out_0\").appendChild(div);\n",
       "                    }, false);\n",
       "                    \n",
       "                    e.appendChild(script);\n",
       "                });\n",
       "            })();\n",
       "            </script>"
      ]
     },
     "metadata": {},
     "output_type": "display_data"
    }
   ],
   "source": [
    "USE {\n",
    "    repositories {\n",
    "         mavenCentral()\n",
    "    }\n",
    "\n",
    "    dependencies {\n",
    "        implementation(\"dev.yidafu.jupyter:jupyter-js:0.2.0\")\n",
    "    }\n",
    "}"
   ]
  },
  {
   "cell_type": "markdown",
   "id": "6a37dc95",
   "metadata": {},
   "source": [
    "## Support magic \n",
    "\n",
    "+ `%js`\n",
    "+ `%javacript`\n",
    "+ `%ts`\n",
    "+ `%typescript`\n",
    "+ `%tsx`"
   ]
  },
  {
   "cell_type": "markdown",
   "id": "21ae3705",
   "metadata": {},
   "source": [
    "# JS Example\n",
    "\n",
    "In JS world, you can import any variables from kotlin world, through the virtual package `@jupyter`.\n",
    "\n",
    "You can get a cell root Element in output cell, and do every thing you want to do."
   ]
  },
  {
   "cell_type": "code",
   "execution_count": 2,
   "id": "a355d4a2",
   "metadata": {},
   "outputs": [],
   "source": [
    "// value define in kotlin world\n",
    "val kNumber = 233"
   ]
  },
  {
   "cell_type": "code",
   "execution_count": 3,
   "id": "ebd0867b",
   "metadata": {},
   "outputs": [
    {
     "data": {
      "text/html": [
       "           <div id=\"14395c26-632e-44af-afd0-5a9d92af05e2\"></div>\n",
       "           <script type=\"module\">\n",
       "           function getCellRoot() { return document.getElementById(\"14395c26-632e-44af-afd0-5a9d92af05e2\"); }\n",
       "            const kNumber = \"233\" \n",
       "getCellRoot().innerHTML = `<h1>233</h1>`;\n",
       "\n",
       "           </script>"
      ]
     },
     "execution_count": 3,
     "metadata": {},
     "output_type": "execute_result"
    }
   ],
   "source": [
    "%js\n",
    "// using `kNumber` in js workd\n",
    "import { kNumber } from '@jupyter'\n",
    "\n",
    "getCellRoot().innerHTML = `<h1>${kNumber}</h1>`"
   ]
  },
  {
   "cell_type": "markdown",
   "id": "0bd01452",
   "metadata": {},
   "source": [
    "# JSX Example\n",
    "\n",
    "Just export your component function.\n",
    "\n",
    "`%jsx`/`%tsx` magic will render your default export component function"
   ]
  },
  {
   "cell_type": "code",
   "execution_count": 4,
   "id": "16610f33",
   "metadata": {},
   "outputs": [],
   "source": [
    "var foo: String = \"foo from kotlin world\""
   ]
  },
  {
   "cell_type": "code",
   "execution_count": 5,
   "id": "81bdb6e7-9b44-471c-abbc-1c28f8e6f6f4",
   "metadata": {},
   "outputs": [
    {
     "data": {
      "text/html": [
       "\n",
       "<div id=\"7202979a-54d3-472f-a616-c25bde0c5670\"></div>\n",
       "<script type=\"module\">\n",
       "function getCellRoot() { return document.getElementById(\"7202979a-54d3-472f-a616-c25bde0c5670\"); }\n",
       "import  { createRoot }  from \"https://esm.sh/react-dom@18.2.0/client\";\n",
       "import React from \"https://esm.sh/react@18.2.0\";\n",
       "\n",
       " const foo = \"foo from kotlin world\" \n",
       " const __JupyterCellDefaultExportVariable__ = function App() {\n",
       "    return React.createElement(\"h1\", null, foo);\n",
       "};\n",
       " \n",
       "const root = createRoot(getCellRoot());\n",
       "root.render(React.createElement(__JupyterCellDefaultExportVariable__))\n",
       "</script>\n"
      ]
     },
     "execution_count": 5,
     "metadata": {},
     "output_type": "execute_result"
    }
   ],
   "source": [
    "%jsx\n",
    "\n",
    "import { foo } from \"@jupyter\";\n",
    "\n",
    "export default function App() {\n",
    "    return <h1>{foo}</h1>\n",
    "}"
   ]
  },
  {
   "cell_type": "markdown",
   "id": "af5df197",
   "metadata": {
    "scrolled": true
   },
   "source": [
    "# Using external library\n",
    "\n",
    "## Echarts Example\n",
    "\n",
    "see <https://echarts.apache.org/examples/en/editor.html?c=line-simple&lang=ts>\n",
    "\n",
    "1. Defined Value in Kotlin Cell\n",
    "2. using it with `%ts` magic\n",
    "3. coding js code\n",
    "\n",
    "suport exteral libs [libs-mapping.json](jupyter-js/src/main/resources/libs-mapping.json)\n",
    "\n",
    "you can also import libs from url.\n",
    "\n",
    "like:\n",
    "\n",
    "```js\n",
    "import _ from 'https://esm.sh/lodash@4.17.21'\n",
    "```\n",
    "\n",
    "**<https://esm.sh/> may help you**"
   ]
  },
  {
   "cell_type": "code",
   "execution_count": 6,
   "id": "7496bd20",
   "metadata": {},
   "outputs": [],
   "source": [
    "// value define in kotlin world\n",
    "val dataArray = arrayOf(150, 230, 224, 218, 135, 147, 260)"
   ]
  },
  {
   "cell_type": "code",
   "execution_count": 7,
   "id": "caa87e5a-e272-4d79-8aa3-5cf6bc9a0183",
   "metadata": {},
   "outputs": [
    {
     "data": {
      "text/html": [
       "            <div id=\"bc6bf07a-7002-49e4-8654-5d2840f09ad7\"></div>\n",
       "            <script type=\"module\">\n",
       "            function getCellRoot() { return document.getElementById(\"bc6bf07a-7002-49e4-8654-5d2840f09ad7\"); }\n",
       "             const dataArray = [150,230,224,218,135,147,260] \n",
       " import * as echarts from \"https://unpkg.com/echarts@5.4.3/dist/echarts.esm.js\";\n",
       "var chartDom = getCellRoot();\n",
       "chartDom.style = \"width:300px; height: 300px\";\n",
       "var myChart = echarts.init(chartDom);\n",
       "var option;\n",
       "option = {\n",
       "    xAxis: {\n",
       "        type: \"category\",\n",
       "        data: [\n",
       "            \"Mon\",\n",
       "            \"Tue\",\n",
       "            \"Wed\",\n",
       "            \"Thu\",\n",
       "            \"Fri\",\n",
       "            \"Sat\",\n",
       "            \"Sun\"\n",
       "        ]\n",
       "    },\n",
       "    yAxis: {\n",
       "        type: \"value\"\n",
       "    },\n",
       "    series: [\n",
       "        {\n",
       "            data: dataArray,\n",
       "            type: \"line\"\n",
       "        }\n",
       "    ]\n",
       "};\n",
       "option && myChart.setOption(option);\n",
       " \n",
       "            </script>"
      ]
     },
     "execution_count": 7,
     "metadata": {},
     "output_type": "execute_result"
    }
   ],
   "source": [
    "%ts\n",
    "\n",
    "import { dataArray } from \"@jupyter\";\n",
    "\n",
    "import * as echarts from 'echarts';\n",
    "\n",
    "type EChartsOption = echarts.EChartsOption;\n",
    "\n",
    "var chartDom = getCellRoot();\n",
    "\n",
    "chartDom.style = \"width:300px; height: 300px\"\n",
    "\n",
    "var myChart = echarts.init(chartDom);\n",
    "var option: EChartsOption;\n",
    "\n",
    "option = {\n",
    "  xAxis: {\n",
    "    type: 'category',\n",
    "    data: ['Mon', 'Tue', 'Wed', 'Thu', 'Fri', 'Sat', 'Sun']\n",
    "  },\n",
    "  yAxis: {\n",
    "    type: 'value'\n",
    "  },\n",
    "  series: [\n",
    "    {\n",
    "      data: dataArray,\n",
    "      type: 'line'\n",
    "    }\n",
    "  ]\n",
    "};\n",
    "\n",
    "option && myChart.setOption(option);"
   ]
  }
 ],
 "metadata": {
  "kernelspec": {
   "display_name": "Kotlin",
   "language": "kotlin",
   "name": "kotlin"
  },
  "language_info": {
   "codemirror_mode": "text/x-kotlin",
   "file_extension": ".kt",
   "mimetype": "text/x-kotlin",
   "name": "kotlin",
   "nbconvert_exporter": "",
   "pygments_lexer": "kotlin",
   "version": "1.8.20"
  }
 },
 "nbformat": 4,
 "nbformat_minor": 5
}
