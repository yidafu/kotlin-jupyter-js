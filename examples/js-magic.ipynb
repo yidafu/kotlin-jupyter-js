{
 "cells": [
  {
   "cell_type": "code",
   "execution_count": 1,
   "id": "bcceb0dd",
   "metadata": {},
   "outputs": [],
   "source": [
    "USE {\n",
    "    repositories {\n",
    "         mavenCentral()\n",
    "    }\n",
    "\n",
    "    dependencies {\n",
    "        implementation(\"dev.yidafu.jupyter:jupyter-js:0.7.0\")\n",
    "    }\n",
    "}"
   ]
  },
  {
   "cell_type": "markdown",
   "id": "6a37dc95",
   "metadata": {},
   "source": [
    "## Support magic \n",
    "\n",
    "+ `%js`\n",
    "+ `%javacript`\n",
    "+ `%ts`\n",
    "+ `%typescript`\n",
    "+ `%tsx`"
   ]
  },
  {
   "cell_type": "markdown",
   "id": "21ae3705",
   "metadata": {},
   "source": [
    "# JS Example\n",
    "\n",
    "In JS world, you can import any variables from kotlin world, through the virtual package `@jupyter`.\n",
    "\n",
    "You can get a cell root Element in output cell, and do every thing you want to do."
   ]
  },
  {
   "cell_type": "code",
   "execution_count": 2,
   "id": "a355d4a2",
   "metadata": {},
   "outputs": [],
   "source": [
    "// value define in kotlin world\n",
    "val kNumber = 233"
   ]
  },
  {
   "cell_type": "code",
   "execution_count": 3,
   "id": "ebd0867b",
   "metadata": {},
   "outputs": [
    {
     "data": {
      "text/html": [
       "\n",
       "<div id=\"126c5b47-f4e5-4132-9cb1-f080b578240c\" style=\"width:100%;min-height:100px\"></div>\n",
       "<script type=\"module\">\n",
       "function getCellRoot(width = \"100%\", height = \"100px\") {\n",
       "    var cellRoot = document.getElementById(\"126c5b47-f4e5-4132-9cb1-f080b578240c\");\n",
       "    cellRoot.style = `width: ${width};height: ${height}`\n",
       "    return cellRoot;\n",
       "}\n",
       " const kNumber = 233 \n",
       " getCellRoot().innerHTML = `<h1>${kNumber}</h1>`;\n",
       " \n",
       "</script>\n"
      ]
     },
     "execution_count": 3,
     "metadata": {},
     "output_type": "execute_result"
    }
   ],
   "source": [
    "%js\n",
    "// using `kNumber` in js workd\n",
    "import { kNumber } from '@jupyter'\n",
    "\n",
    "getCellRoot().innerHTML = `<h1>${kNumber}</h1>`"
   ]
  },
  {
   "cell_type": "markdown",
   "id": "0bd01452",
   "metadata": {},
   "source": [
    "# JSX Example\n",
    "\n",
    "Just export your component function.\n",
    "\n",
    "`%jsx`/`%tsx` magic will render your default export component function"
   ]
  },
  {
   "cell_type": "code",
   "execution_count": 4,
   "id": "16610f33",
   "metadata": {},
   "outputs": [],
   "source": [
    "var foo: String = \"foo from kotlin world\""
   ]
  },
  {
   "cell_type": "code",
   "execution_count": 5,
   "id": "81bdb6e7-9b44-471c-abbc-1c28f8e6f6f4",
   "metadata": {},
   "outputs": [
    {
     "data": {
      "text/html": [
       "\n",
       "<div id=\"9e1fad6e-e225-4a3d-8275-67708b0df99e\" style=\"width:100%;min-height:100px\"></div>\n",
       "<script type=\"module\">\n",
       "function getCellRoot(width = \"100%\", height = \"100px\") {\n",
       "    var cellRoot = document.getElementById(\"9e1fad6e-e225-4a3d-8275-67708b0df99e\");\n",
       "    cellRoot.style = `width: $\\{width};height: $\\{height}`\n",
       "    return cellRoot;\n",
       "}\n",
       "import  { createRoot }  from \"https://esm.sh/react-dom@18.2.0/client\";\n",
       "import React from \"https://esm.sh/react@18.2.0\";\n",
       "\n",
       " const foo = \"foo from kotlin world\" \n",
       " const __JupyterCellDefaultExportVariable__ = function App() {\n",
       "    return React.createElement(\"h1\", null, foo);\n",
       "};\n",
       " \n",
       "const root = createRoot(getCellRoot());\n",
       "root.render(React.createElement(__JupyterCellDefaultExportVariable__))\n",
       "</script>\n"
      ]
     },
     "execution_count": 5,
     "metadata": {},
     "output_type": "execute_result"
    }
   ],
   "source": [
    "%jsx\n",
    "\n",
    "import { foo } from \"@jupyter\";\n",
    "\n",
    "export default function App() {\n",
    "    return <h1>{foo}</h1>\n",
    "}"
   ]
  },
  {
   "cell_type": "markdown",
   "id": "af5df197",
   "metadata": {
    "scrolled": true
   },
   "source": [
    "# Using external library\n",
    "\n",
    "## Echarts Example\n",
    "\n",
    "see <https://echarts.apache.org/examples/en/editor.html?c=line-simple&lang=ts>\n",
    "\n",
    "1. Defined Value in Kotlin Cell\n",
    "2. using it with `%ts` magic\n",
    "3. coding js code\n",
    "\n",
    "suport exteral libs [libs-mapping.json](jupyter-js/src/main/resources/libs-mapping.json)\n",
    "\n",
    "you can also import libs from url.\n",
    "\n",
    "like:\n",
    "\n",
    "```js\n",
    "import _ from 'https://esm.sh/lodash@4.17.21'\n",
    "```\n",
    "\n",
    "**<https://esm.sh/> may help you**"
   ]
  },
  {
   "cell_type": "code",
   "execution_count": 6,
   "id": "7496bd20",
   "metadata": {},
   "outputs": [],
   "source": [
    "// value define in kotlin world\n",
    "val dataArray = arrayOf(150, 230, 224, 218, 135, 147, 260)"
   ]
  },
  {
   "cell_type": "code",
   "execution_count": 7,
   "id": "caa87e5a-e272-4d79-8aa3-5cf6bc9a0183",
   "metadata": {},
   "outputs": [
    {
     "data": {
      "text/html": [
       "\n",
       "<div id=\"e3179b14-4ccd-4972-82fa-7e38d8071e81\" style=\"width:100%;min-height:100px\"></div>\n",
       "<script type=\"module\">\n",
       "function getCellRoot(width = \"100%\", height = \"100px\") {\n",
       "    var cellRoot = document.getElementById(\"e3179b14-4ccd-4972-82fa-7e38d8071e81\");\n",
       "    cellRoot.style = `width: ${width};height: ${height}`\n",
       "    return cellRoot;\n",
       "}\n",
       " const dataArray = [150,230,224,218,135,147,260] \n",
       " import * as echarts from \"https://cdn.jsdelivr.net/gh/yidafu/echarts-gl-esm@1.0.1/esm/echarts.js\";\n",
       "var chartDom = getCellRoot();\n",
       "chartDom.style = \"width:300px; height: 300px\";\n",
       "var myChart = echarts.init(chartDom);\n",
       "var option;\n",
       "option = {\n",
       "    xAxis: {\n",
       "        type: \"category\",\n",
       "        data: [\n",
       "            \"Mon\",\n",
       "            \"Tue\",\n",
       "            \"Wed\",\n",
       "            \"Thu\",\n",
       "            \"Fri\",\n",
       "            \"Sat\",\n",
       "            \"Sun\"\n",
       "        ]\n",
       "    },\n",
       "    yAxis: {\n",
       "        type: \"value\"\n",
       "    },\n",
       "    series: [\n",
       "        {\n",
       "            data: dataArray,\n",
       "            type: \"line\"\n",
       "        }\n",
       "    ]\n",
       "};\n",
       "option && myChart.setOption(option);\n",
       " \n",
       "</script>\n"
      ]
     },
     "execution_count": 7,
     "metadata": {},
     "output_type": "execute_result"
    }
   ],
   "source": [
    "%ts\n",
    "\n",
    "import { dataArray } from \"@jupyter\";\n",
    "\n",
    "import * as echarts from 'echarts';\n",
    "\n",
    "type EChartsOption = echarts.EChartsOption;\n",
    "\n",
    "var chartDom = getCellRoot();\n",
    "\n",
    "chartDom.style = \"width:300px; height: 300px\"\n",
    "\n",
    "var myChart = echarts.init(chartDom);\n",
    "var option: EChartsOption;\n",
    "\n",
    "option = {\n",
    "  xAxis: {\n",
    "    type: 'category',\n",
    "    data: ['Mon', 'Tue', 'Wed', 'Thu', 'Fri', 'Sat', 'Sun']\n",
    "  },\n",
    "  yAxis: {\n",
    "    type: 'value'\n",
    "  },\n",
    "  series: [\n",
    "    {\n",
    "      data: dataArray,\n",
    "      type: 'line'\n",
    "    }\n",
    "  ]\n",
    "};\n",
    "\n",
    "option && myChart.setOption(option);"
   ]
  },
  {
   "cell_type": "markdown",
   "id": "9776bdac",
   "metadata": {},
   "source": [
    "# Inline Script\n",
    "\n",
    "## local js file"
   ]
  },
  {
   "cell_type": "code",
   "execution_count": 8,
   "id": "8d641f44",
   "metadata": {},
   "outputs": [
    {
     "data": {
      "text/html": [
       "\n",
       "<div id=\"91de5fd7-2432-4c8a-aa26-3e0f089543de\" style=\"width:100%;min-height:100px\"></div>\n",
       "<script type=\"module\">\n",
       "function getCellRoot(width = \"100%\", height = \"100px\") {\n",
       "    var cellRoot = document.getElementById(\"91de5fd7-2432-4c8a-aa26-3e0f089543de\");\n",
       "    cellRoot.style = `width: ${width};height: ${height}`\n",
       "    return cellRoot;\n",
       "}\n",
       " \n",
       " const inline_Li9sb2NhbC5qcw = (function(exports = {}) {\n",
       "    console.log('local message');\n",
       "    const var3 = true;\n",
       "    const var4 = {};\n",
       "    const var5 = \"default\";\n",
       "    const obj = {\n",
       "        a: 1,\n",
       "        b: 2\n",
       "    };\n",
       "    const foo = 123;\n",
       "    exports.foo = foo;\n",
       "    function functionName() {}\n",
       "    exports.functionName = functionName;\n",
       "    class ClassName {\n",
       "    }\n",
       "    exports.ClassName = ClassName;\n",
       "    exports.var3 = var3;\n",
       "    exports.obj = var4;\n",
       "    exports.default = var5;\n",
       "    const { a, b: c } = obj;\n",
       "    exports.a = obj.a;\n",
       "    exports.c = c;\n",
       "    exports.default = \"123\";\n",
       "    return exports;\n",
       "})();\n",
       "const foo = inline_Li9sb2NhbC5qcw.foo;\n",
       "const a = inline_Li9sb2NhbC5qcw.a;\n",
       "const c = inline_Li9sb2NhbC5qcw.c;\n",
       "getCellRoot().innerHTML = `<div>\n",
       "   <h3>${foo}</h3>\n",
       "   <h6>${a}</h6>\n",
       "   <h6>${c}</h6>\n",
       "</div>`;\n",
       " \n",
       "</script>\n"
      ]
     },
     "execution_count": 8,
     "metadata": {},
     "output_type": "execute_result"
    }
   ],
   "source": [
    "%js\n",
    "\n",
    "import { foo } from  \"./local.js\"\n",
    "// duplicate import\n",
    "import { a, c } from  \"./local.js\"\n",
    "\n",
    "\n",
    "getCellRoot().innerHTML = `<div>\n",
    "   <h3>${foo}</h3>\n",
    "   <h6>${a}</h6>\n",
    "   <h6>${c}</h6>\n",
    "</div>`"
   ]
  },
  {
   "cell_type": "markdown",
   "id": "acd3b13e",
   "metadata": {},
   "source": [
    "## import remote script\n",
    "\n",
    "add `?inline` query parameter, jupyter js will download the script and compile to IIFE."
   ]
  },
  {
   "cell_type": "code",
   "execution_count": 9,
   "id": "f409825c",
   "metadata": {},
   "outputs": [
    {
     "data": {
      "text/html": [
       "\n",
       "<div id=\"f048d90b-889a-48cd-995b-e1f0615abeae\" style=\"width:100%;min-height:100px\"></div>\n",
       "<script type=\"module\">\n",
       "function getCellRoot(width = \"100%\", height = \"100px\") {\n",
       "    var cellRoot = document.getElementById(\"f048d90b-889a-48cd-995b-e1f0615abeae\");\n",
       "    cellRoot.style = `width: ${width};height: ${height}`\n",
       "    return cellRoot;\n",
       "}\n",
       " \n",
       " const inline_aHR0cHM6Ly9jZG4uanNkZWxpdnIubmV0L2doL3lpZGFmdS9rb3RsaW4tanVweXRlci1qc0BtYWluL2V4YW1wbGVzL2xvY2FsLmpzP2lubGluZQ = (function(exports = {}) {\n",
       "    console.log('local message');\n",
       "    const var3 = true;\n",
       "    const var4 = {};\n",
       "    const var5 = \"default\";\n",
       "    const obj = {\n",
       "        a: 1,\n",
       "        b: 2\n",
       "    };\n",
       "    const foo = 123;\n",
       "    exports.foo = foo;\n",
       "    function functionName() {}\n",
       "    exports.functionName = functionName;\n",
       "    class ClassName {\n",
       "    }\n",
       "    exports.ClassName = ClassName;\n",
       "    exports.var3 = var3;\n",
       "    exports.obj = var4;\n",
       "    exports.default = var5;\n",
       "    const { a, b: c } = obj;\n",
       "    exports.a = obj.a;\n",
       "    exports.c = c;\n",
       "    exports.default = \"123\";\n",
       "    return exports;\n",
       "})();\n",
       "const foo = inline_aHR0cHM6Ly9jZG4uanNkZWxpdnIubmV0L2doL3lpZGFmdS9rb3RsaW4tanVweXRlci1qc0BtYWluL2V4YW1wbGVzL2xvY2FsLmpzP2lubGluZQ.foo;\n",
       "getCellRoot().innerHTML = `<div>\n",
       "   <h3>${foo}</h3>\n",
       "</div>`;\n",
       " \n",
       "</script>\n"
      ]
     },
     "execution_count": 9,
     "metadata": {},
     "output_type": "execute_result"
    }
   ],
   "source": [
    "%js\n",
    "\n",
    "import { foo } from  \"https://cdn.jsdelivr.net/gh/yidafu/kotlin-jupyter-js@main/examples/local.js?inline\"\n",
    "\n",
    "getCellRoot().innerHTML = `<div>\n",
    "   <h3>${foo}</h3>\n",
    "</div>`"
   ]
  },
  {
   "cell_type": "code",
   "execution_count": null,
   "id": "75cf9863",
   "metadata": {},
   "outputs": [],
   "source": []
  }
 ],
 "metadata": {
  "kernelspec": {
   "display_name": "Kotlin",
   "language": "kotlin",
   "name": "kotlin"
  },
  "language_info": {
   "codemirror_mode": "text/x-kotlin",
   "file_extension": ".kt",
   "mimetype": "text/x-kotlin",
   "name": "kotlin",
   "nbconvert_exporter": "",
   "pygments_lexer": "kotlin",
   "version": "1.8.20"
  }
 },
 "nbformat": 4,
 "nbformat_minor": 5
}
